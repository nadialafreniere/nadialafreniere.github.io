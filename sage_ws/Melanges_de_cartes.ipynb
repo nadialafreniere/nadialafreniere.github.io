{
 "nbformat_minor": 2, 
 "nbformat": 4, 
 "cells": [
  {
   "source": [
    "$$\n", 
    "\\def\\CC{\\bf C}\n", 
    "\\def\\QQ{\\bf Q}\n", 
    "\\def\\RR{\\bf R}\n", 
    "\\def\\ZZ{\\bf Z}\n", 
    "\\def\\NN{\\bf N}\n", 
    "$$\n", 
    "# M\u00e9lange am\u00e9ricain\n", 
    "\n", 
    "Le m\u00e9lange am\u00e9ricain est une fa\u00e7on de m\u00e9langer les cartes largement utilis\u00e9e. La mod\u00e9lisation du m\u00e9lange va comme suit :\n", 
    "\n", 
    "- On coupe le paquet de cartes apr\u00e8s $k$ cartes selon une loi binomiale, c'est-\u00e0-dire qu'on coupe apr\u00e8s $k$ cartes avec probabilit\u00e9 $\\frac{\\binom{n}{k}}{2^n}$. On garde chacun des paquets dans une main.\n", 
    "\n", 
    "- On bat les cartes en laissant tomber d'une main la carte en dessous du paquet avec une probabilit\u00e9 proportionnelle au nombre de cartes qu'il reste dans la main.\n", 
    "\n", 
    "Notre but ici est de comprendre certaines propri\u00e9t\u00e9s du m\u00e9lange am\u00e9ricain et de simuler des m\u00e9langes.\n", 
    "\n", 
    "Commen\u00e7ons par simuler le m\u00e9lange am\u00e9ricain. Pour ce faire, on cr\u00e9e une fonction qui retourne $k$ (entre 1 et $n$) avec probabilit\u00e9 binomiale. *Indice : La loi binomiale mod\u00e9lise la probabilit\u00e9 d'obtenir $k$ fois pile en $n$ lancers d'une pi\u00e8ce de monnaie.*"
   ], 
   "cell_type": "markdown", 
   "metadata": {}
  }, 
  {
   "execution_count": null, 
   "cell_type": "code", 
   "source": [
    "# edit here"
   ], 
   "outputs": [], 
   "metadata": {}
  }, 
  {
   "source": [
    "Cr\u00e9er une fonction qui simule le battage de deux listes. Il faut que le dernier \u00e9l\u00e9ment de la liste soit retir\u00e9 \u00e0 la fin de la liste 1 avec probabilit\u00e9 $\\frac{\\textrm{longueur de la liste 1}}{\\textrm{longueur de la liste 1 + longueur de la liste 2}}$."
   ], 
   "cell_type": "markdown", 
   "metadata": {}
  }, 
  {
   "execution_count": null, 
   "cell_type": "code", 
   "source": [
    "# edit here"
   ], 
   "outputs": [], 
   "metadata": {}
  }, 
  {
   "source": [
    "\u00c0 l'aide des deux fonctions pr\u00e9c\u00e9dentes, cr\u00e9er une fonction simulant le m\u00e9lange am\u00e9ricain."
   ], 
   "cell_type": "markdown", 
   "metadata": {}
  }, 
  {
   "execution_count": null, 
   "cell_type": "code", 
   "source": [
    "# edit here"
   ], 
   "outputs": [], 
   "metadata": {}
  }, 
  {
   "source": [
    "Une *sous-suite croissante* dans une permutation $\\sigma$ est une liste d'\u00e9l\u00e9ments $i_1 < i_2 < \\ldots < i_k$ satisfaisant $\\sigma(i_1) < \\sigma(i_2) < \\sigma(i_k).$ On veut cr\u00e9er une fa\u00e7on de trouver le nombre de sous-suites croissantes d'une certaines forme dans la permutation effectu\u00e9e par le m\u00e9lange am\u00e9ricain.\n", 
    "\n", 
    "Cr\u00e9er une fonction qui donne le nombre de s\u00e9quences croissantes maximales telles que $\\sigma(i_1) < \\ldots < \\sigma(i_k)$ est un intervalle. Pour les trouver, on prend n'importe quel \u00e9l\u00e9ment $\\sigma(i_k)$, puis on cherche l'\u00e9l\u00e9ment $\\sigma(i_k)+1$ parmi les $\\sigma(j),\\ j>k$. On fait de m\u00eame pour $\\sigma(i_k)-1$ vers la gauche, jusqu'\u00e0 ce qu'on ait atteint le bord. On trouve alors une s\u00e9quence croissante maximale. Ici, on cherche les s\u00e9quences en partant de la s\u00e9quence maximale contenant $1$, puis celle contenant le plus petit nombre qui n'est pas dans la s\u00e9quence contenant $1$, etc. Par exemple, dans la liste `[7, 2, 8, 6, 1, 3, 4, 5]`, on trouverait les listes `[1], [2, 3, 4, 5], [6], [7, 8]`."
   ], 
   "cell_type": "markdown", 
   "metadata": {}
  }, 
  {
   "execution_count": null, 
   "cell_type": "code", 
   "source": [
    "# edit here"
   ], 
   "outputs": [], 
   "metadata": {}
  }, 
  {
   "source": [
    "Faites 15 simulations sur une liste de 50 \u00e9l\u00e9ments diff\u00e9rents (par exemple, les nombres de 0 \u00e0 49) m\u00e9lang\u00e9s deux fois avec le m\u00e9lange am\u00e9ricain et compter leur nombre de s\u00e9quences croissantes maximales (telles que d\u00e9crite plus haut). Refaites la m\u00eame exp\u00e9rience avec 3, 4, 10 et 20 it\u00e9rations du m\u00e9lange am\u00e9ricain sur la m\u00eame liste. R\u00e9pondez aux questions suivantes :\n", 
    "\n", 
    "- Combien semble-t-il y avoir de s\u00e9quences maximales en moyenne pour 2, 3, 4, 10 et 20 it\u00e9rations?\n", 
    "\n", 
    "- Que peut-on dire de l'efficacit\u00e9 du m\u00e9lange apr\u00e8s 3 it\u00e9rations? Y a-t-il une diff\u00e9rence marqu\u00e9e entre 10 et 20 m\u00e9langes?\n", 
    "\n", 
    "-   Que peut-on dire sur le nombre maximal de s\u00e9quences croissantes apr\u00e8s $m$ m\u00e9langes?\n", 
    "\n", 
    "Pour qualifier vos r\u00e9ponses, vous pouvez utiliser des outils de statistiques."
   ], 
   "cell_type": "markdown", 
   "metadata": {}
  }, 
  {
   "execution_count": null, 
   "cell_type": "code", 
   "source": [
    "# edit here"
   ], 
   "outputs": [], 
   "metadata": {}
  }, 
  {
   "source": [
    "Pour la suite, on aimerait cr\u00e9er la matrice de transition de la cha\u00eene de Markov d\u00e9finie par le m\u00e9lange am\u00e9ricain. Pour y arriver :\n", 
    "\n", 
    "-   On \u00e9num\u00e8re toutes les fa\u00e7ons de couper le paquet\n", 
    "\n", 
    "- Pour chacune d'entre elles, on \u00e9num\u00e8re tous les r\u00e9sultats possibles pour le battage. Pour y arriver facilement, vous pouvez transf\u00e9rer vos listes en mots (avec `Word(nom_de_ma_liste)`), puis utiliser l'op\u00e9rateur `shuffle` de la biblioth\u00e8que des mots.\n", 
    "\n", 
    "Construisez les matrices de transition pour trois, quatre et cinq cartes (elles devraient \u00eatre de taille $n! \\times n!$). \u00c0 l'aide de la fonction (`is_stochastic_matrix()`) que vous avez d\u00e9finie dans la feuille de travail `Markov`, v\u00e9rifier que les matrices sont stochastiques."
   ], 
   "cell_type": "markdown", 
   "metadata": {}
  }, 
  {
   "execution_count": null, 
   "cell_type": "code", 
   "source": [
    "# edit here"
   ], 
   "outputs": [], 
   "metadata": {}
  }, 
  {
   "source": [
    "Calculer les valeurs propres de chacune des matrices. Que remarque-t-on?"
   ], 
   "cell_type": "markdown", 
   "metadata": {}
  }, 
  {
   "execution_count": null, 
   "cell_type": "code", 
   "source": [
    "# edit here"
   ], 
   "outputs": [], 
   "metadata": {}
  }, 
  {
   "source": [
    "# Le m\u00e9lange doublement al\u00e9atoire\n", 
    "\n", 
    "Le m\u00e9lange doublement al\u00e9atoire correspond \u00e0 prendre une carte n'importe o\u00f9 dans le paquet, puis \u00e0 la remettre n'importe o\u00f9 dans le paquet.\n", 
    "\n", 
    "Construire les matrices de transition pour des paquets de trois, quatre et cinq cartes. Comme tout \u00e0 l'heure, elles devraient \u00eatre de taille $n! \\times n!$. V\u00e9rifier qu'elles sont stochastiques. Sont-elles sym\u00e9triques?"
   ], 
   "cell_type": "markdown", 
   "metadata": {}
  }, 
  {
   "execution_count": null, 
   "cell_type": "code", 
   "source": [
    "# edit here"
   ], 
   "outputs": [], 
   "metadata": {}
  }, 
  {
   "source": [
    "Calculer les valeurs propres de ces matrices? Sont-elles toutes rationnelles? Existe-t-il un d\u00e9nominateur commun \u00e0 toutes les valeurs propres, quelque soit le nombre de cartes?"
   ], 
   "cell_type": "markdown", 
   "metadata": {}
  }, 
  {
   "execution_count": null, 
   "cell_type": "code", 
   "source": [
    "# edit here"
   ], 
   "outputs": [], 
   "metadata": {}
  }
 ], 
 "metadata": {
  "kernelspec": {
   "display_name": "sagemath", 
   "name": "sagemath"
  }
 }
}