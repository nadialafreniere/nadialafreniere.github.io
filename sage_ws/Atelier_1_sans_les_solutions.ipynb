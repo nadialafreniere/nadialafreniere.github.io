{
 "cells": [
  {
   "cell_type": "markdown",
   "metadata": {},
   "source": [
    "\n",
    "# Tutoriel : Utiliser le Notebook de Sage (Cocalc), naviguer dans la documentation, utiliser Sage comme une calculatrice.\n",
    "\n",
    "Cette feuille de travail est grandement inspirée des exercices du cours de Sébastien Labbé _Logiciels mathématiques_ qui sont disponibles en ligne : http://www.slabbe.org/Enseignements/MATH2010/exercices.pdf\n",
    "\n",
    "D'autres parties proviennent des feuilles d'introduction à Sage de Franco Saliola ou encore de la documentation de Sage (le premier tutoriel est ici : https://doc.sagemath.org/html/en/thematic_tutorials/tutorial-notebook-and-help-long.html)\n",
    "\n",
    "**Il est recommandé de d'abord faire un tour d'horizon de Cocalc.**\n",
    "\n",
    "Pour évaluer le contenu d'une ligne, il suffit d'appuyer sur les touches Maj + Entrée. Essayez le maintenant sur une petite expression, comme celle ci-dessous. Sur Cocalc, le temps d'évaluation est plus grand pour la première cellule."
   ]
  },
  {
   "cell_type": "code",
   "execution_count": 1,
   "metadata": {
    "scrolled": true
   },
   "outputs": [
    {
     "data": {
      "text/plain": [
       "5"
      ]
     },
     "execution_count": 1,
     "metadata": {},
     "output_type": "execute_result"
    }
   ],
   "source": [
    "2 + 3"
   ]
  },
  {
   "cell_type": "markdown",
   "metadata": {},
   "source": [
    "Calculer le nombre $2^5 \\cdot 3^2 \\cdot 7.$ Pour y répondre, créer une nouvelle cellule en cliquant sur la ligne bleue qui apparaîtra en déplaçant la souris."
   ]
  },
  {
   "cell_type": "markdown",
   "metadata": {},
   "source": [
    "Calculer le résultat de $540931 \\div 83$ sous forme décimale."
   ]
  },
  {
   "cell_type": "markdown",
   "metadata": {},
   "source": [
    "Calculer le quotient et le reste de la division de  $540 931$ par $83$."
   ]
  },
  {
   "cell_type": "markdown",
   "metadata": {},
   "source": [
    "Calculer la somme et la moyenne des valeurs suivantes :\n",
    "    $3121, 71072, 44563, 10986, 43048, 8081, 44681, 23757, 4093, 24805, 30750, 73504.$"
   ]
  },
  {
   "cell_type": "markdown",
   "metadata": {},
   "source": [
    "Quelle opération est effectuée en premiier dans l'opération $7 * 2 ** 5 + 3$? Est-ce que la valeur de l'expression est égale à $7 \\cdot 2^{5+3}$?"
   ]
  },
  {
   "cell_type": "markdown",
   "metadata": {},
   "source": [
    "Soit l'expression $3 ** 3 ** 3$. Quelle opération d'exponientiation $(**)$ est effectuée en premier, la première ou la deuxième?"
   ]
  },
  {
   "cell_type": "markdown",
   "metadata": {},
   "source": [
    "Soit $p(x) = -21 x^5 - 10 x^4 + x^3 + x^2 - 1$. Évaluer $p(x)$ pour toutes les valeurs de $x$ dans l'ensemble $\\{ 6, 7, 9, 13, 16, 17, 19\\}$."
   ]
  },
  {
   "cell_type": "markdown",
   "metadata": {},
   "source": [
    "Écrire l'expression $\\frac{5}{x+3} + \\frac{3}{x-5} - \\frac{8}{x}$ sous un dénominateur commun."
   ]
  },
  {
   "cell_type": "markdown",
   "metadata": {},
   "source": [
    "Résoudre l'équation $x^4 - 4 x^3 + 2x^2 - x = 0$."
   ]
  },
  {
   "cell_type": "markdown",
   "metadata": {},
   "source": [
    "Résoudre le système d'équations $x+y = 4, xy = 3$."
   ]
  },
  {
   "cell_type": "markdown",
   "metadata": {},
   "source": [
    "Trouver l'équation de la droite $y = ax +b$ qui passe par les points $(8,13)$ et $(5, 37)$."
   ]
  },
  {
   "cell_type": "markdown",
   "metadata": {},
   "source": [
    "Tracer la droite."
   ]
  },
  {
   "cell_type": "markdown",
   "metadata": {},
   "source": [
    "Tracer les courbes d'équation $ x + y = 4, xy = 3$ après avoir isolé la variable $y$. Est-ce que les points d'intersection, s'il y en a, correspondent bien à ceux obtenus plus tôt."
   ]
  },
  {
   "cell_type": "markdown",
   "metadata": {},
   "source": [
    "Tracer les courbes d’équation $ 4x^2 + Bxy + 9y^2 = 1$ pour différentes valeurs de $B$ telles que $−10 \\leq B \\leq 10$. En déduire pour quelles valeurs de $B$ est-ce que l’équation décrit une ellipse."
   ]
  },
  {
   "cell_type": "markdown",
   "metadata": {},
   "source": [
    "C'est possible de revenir en arrière et de modifier le contenu d'une cellule en cliquant dessus (ou avec les flèches sur le clavier). Trouvez maintenant l'équation qui passe par $(8, 13)$ et $(18, 26)$ (sans recopier).\n",
    "\n",
    "C'est aussi possible de modifier ce texte en cliquant dessus. C'est même possible d'insérer des mathématiques avec Latex!\n",
    "\n",
    "## Obtenir de l'aide\n",
    "\n",
    "Il y a différentes façons d'accéder à l'aide de Sage:\n",
    "\n",
    "    Naviguer dans la documentation : https://doc.sagemath.org/html/fr/tutorial/index.html\n",
    "    La complétion (avec la touche tabulation)\n",
    "    L'aide contextuelle (avec le point d'interrogation - ?)\n",
    "    L'accès au code source (avec les deux points d'interrogation - ??)\n",
    "\n",
    "\n",
    "Les exemples suivant sont pour vous familiariser avec ces fonctionnalités."
   ]
  },
  {
   "cell_type": "markdown",
   "metadata": {},
   "source": [
    "Quel est le plus grand facteur premier de $600851475143$?"
   ]
  },
  {
   "cell_type": "markdown",
   "metadata": {},
   "source": [
    "Créer la permutation $51324$. Quel est son inverse?"
   ]
  },
  {
   "cell_type": "markdown",
   "metadata": {},
   "source": [
    "Créer la matrice \n",
    "$$\n",
    "M = \\left(\n",
    "\\begin{array}{rrrr}\n",
    "10 & 4 & 1 & 1 \\\\\n",
    "4 & 6 & 5 & 1 \\\\\n",
    "1 & 5 & 6 & 4 \\\\\n",
    "1 & 1 & 4 & 10\n",
    "\\end{array}\n",
    "\\right)\n",
    "$$\n",
    "Est-elle symétrique? Diagonalisable? Hermitienne? (Et que veut dire hermitienne? Si vous ne le savez pas ou avez oublié, fouillez la documentation.) Quel est son noyau?"
   ]
  },
  {
   "cell_type": "markdown",
   "metadata": {},
   "source": [
    "Tracer maintenant les courbes d'équation $\\sin(3x +2)$ en bleu et $\\cos(x^2+3)$, en rouge. Indiquer les axes."
   ]
  }
 ],
 "metadata": {
  "kernelspec": {
   "display_name": "SageMath 8.2",
   "language": "",
   "name": "sagemath"
  },
  "language_info": {
   "codemirror_mode": {
    "name": "ipython",
    "version": 2
   },
   "file_extension": ".py",
   "mimetype": "text/x-python",
   "name": "python",
   "nbconvert_exporter": "python",
   "pygments_lexer": "ipython2",
   "version": "2.7.14"
  }
 },
 "nbformat": 4,
 "nbformat_minor": 1
}
