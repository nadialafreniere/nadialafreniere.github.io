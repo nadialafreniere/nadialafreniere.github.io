{
 "cells": [
  {
   "cell_type": "markdown",
   "metadata": {},
   "source": [
    "The goal of this worksheet is to give you a flavor of how you can use a software for eperimental math. The general technique is the following:\n",
    "* Compute a high-order approximation\n",
    "* Guess a general formula\n",
    "* Prove it\n",
    "\n",
    "The following exercises show you how to use Sage's Ore-Algebra package, as well as to call the Online Encyclopedia of Integer Sequences (OEIS) from Sage."
   ]
  },
  {
   "cell_type": "markdown",
   "metadata": {},
   "source": [
    "# Guessing recurrences with Ore_Algebra\n",
    "\n",
    "Author: Nadia Lafrenière"
   ]
  },
  {
   "cell_type": "markdown",
   "metadata": {},
   "source": [
    "The Ore Algebra package is however not in Sage by default. To install it, type in your command line (outside of Sage):\n",
    "\n",
    "    sage -pip install --upgrade --user git+https://github.com/mkauers/ore_algebra.git\n",
    "(For this to succeed, you need to have Git installed on you computer).\n"
   ]
  },
  {
   "cell_type": "markdown",
   "metadata": {},
   "source": [
    "And before we use it, we must import it to our worksheet, so Sage knows about it"
   ]
  },
  {
   "cell_type": "code",
   "execution_count": 3,
   "metadata": {},
   "outputs": [],
   "source": [
    "from ore_algebra import *"
   ]
  },
  {
   "cell_type": "markdown",
   "metadata": {},
   "source": [
    "## Linear and non-linear recurrences\n"
   ]
  },
  {
   "cell_type": "markdown",
   "metadata": {},
   "source": [
    "We will start with a basic recurrence, to get our hands on it. For example, consider the sequence (that you all know)\n",
    "$1,1,2,3,5,8,13,21,34,55,...$ "
   ]
  },
  {
   "cell_type": "code",
   "execution_count": 4,
   "metadata": {},
   "outputs": [],
   "source": [
    "fib10 = [1,1,2,3,5,8,13,21,34,55]"
   ]
  },
  {
   "cell_type": "markdown",
   "metadata": {},
   "source": [
    "We will try to guess a recurrence for this sequence :"
   ]
  },
  {
   "cell_type": "code",
   "execution_count": 11,
   "metadata": {},
   "outputs": [
    {
     "data": {
      "text/plain": [
       "-Fn^2 - Fn + 1"
      ]
     },
     "execution_count": 11,
     "metadata": {},
     "output_type": "execute_result"
    }
   ],
   "source": [
    "A = OreAlgebra(ZZ['n'], 'Fn')\n",
    "GFib = guess(fib10, A)\n",
    "GFib"
   ]
  },
  {
   "cell_type": "markdown",
   "metadata": {},
   "source": [
    "What does that mean? Basically, that $F_{n+2}-F_{n+1}-F_n = 0$, or that the $(n+2)$-*nd* term of the sequence is the sum of the $(n+1)$-*st* and the $n$-*th*, which is coherent with our expectations.\n",
    "\n",
    "*Why does not it mean that $-F_{n+2}-F_{n+1}+F_n = 0$?* Because the way linear recurrences are often expressed is by saying $a_{n+k} + c_1 a_{n+k−1} + c_2 a_{n+k−2} + \\ldots + c_k a_n = 0$. This means that the coefficients here would $c_0 = 1$, $c_1 = -1$ and $c_2 = -1$, and the recurrence would be $F_{n+2}-F_{n+1}-F_n = 0$.\n",
    "\n",
    "Also, for linear recurrences, that means that this is the denominator of the generating function (by the theorem we saw for solving linear recurrences)."
   ]
  },
  {
   "cell_type": "markdown",
   "metadata": {},
   "source": [
    "#### Use it!"
   ]
  },
  {
   "cell_type": "code",
   "execution_count": 11,
   "metadata": {},
   "outputs": [
    {
     "data": {
      "text/plain": [
       "[0, 1, 1, 2, 3, 5, 8, 13, 21, 34, 55, 89, 144, 233, 377]"
      ]
     },
     "execution_count": 11,
     "metadata": {},
     "output_type": "execute_result"
    }
   ],
   "source": [
    "GFib.to_list([0,1], 15)  # 0 and 1 are the first terms, 15 is the number of terms I want to see"
   ]
  },
  {
   "cell_type": "code",
   "execution_count": 14,
   "metadata": {
    "slideshow": {
     "slide_type": "fragment"
    }
   },
   "outputs": [
    {
     "data": {
      "text/plain": [
       "[7, 2, 9, 11, 20, 31, 51, 82, 133, 215, 348, 563, 911, 1474, 2385]"
      ]
     },
     "execution_count": 14,
     "metadata": {},
     "output_type": "execute_result"
    }
   ],
   "source": [
    "# Changing the base condition\n",
    "GFib.to_list([7,2], 15)"
   ]
  },
  {
   "cell_type": "markdown",
   "metadata": {},
   "source": [
    "### Catalan numbers"
   ]
  },
  {
   "cell_type": "code",
   "execution_count": 36,
   "metadata": {
    "slideshow": {
     "slide_type": "fragment"
    }
   },
   "outputs": [
    {
     "data": {
      "text/plain": [
       "[1, 1, 2, 5, 14, 42, 132, 429, 1430, 4862]"
      ]
     },
     "execution_count": 36,
     "metadata": {},
     "output_type": "execute_result"
    }
   ],
   "source": [
    "Cat10 = [catalan_number(i) for i in range(10)]; Cat10"
   ]
  },
  {
   "cell_type": "code",
   "execution_count": 39,
   "metadata": {},
   "outputs": [],
   "source": [
    "Gcat = guess(Cat10, OreAlgebra(ZZ['n'], 'Cn'))"
   ]
  },
  {
   "cell_type": "code",
   "execution_count": 40,
   "metadata": {},
   "outputs": [
    {
     "data": {
      "text/plain": [
       "-n*Cn^2 + Cn - 1"
      ]
     },
     "execution_count": 40,
     "metadata": {},
     "output_type": "execute_result"
    }
   ],
   "source": [
    "Gcat"
   ]
  },
  {
   "cell_type": "markdown",
   "metadata": {},
   "source": [
    "This means that $-xC(x)^2 + C(x)-1 = 0$, where $C(x)$ is the generating function for the Catalan numbers... But we have not seen that formula yet. Can you prove it?"
   ]
  },
  {
   "cell_type": "markdown",
   "metadata": {},
   "source": [
    "## A combinatorial problem"
   ]
  },
  {
   "cell_type": "markdown",
   "metadata": {},
   "source": [
    "Proposed in E2297, Richard Stanley.\n",
    "\n",
    "Let $L(n)$ be the total number of distinct monomials appearing in the expansion of the determinant of an $n\\times n$ symmetric matrix $A = (a_{ij})$. For instance, $L(1) = 1$, $L(2) =3$, and $L(3) = 5$. Show that\n",
    "$\\sum_{n=0}^\\infty L(n)\\frac{x^n}{n!} = (1 - x)^{-\\frac{1}{2}}exp(\\frac{1}{2}x + \\frac{1}{4}x^2)$,\n",
    "where $|x| < 1$, and where we define $L(0)=1$."
   ]
  },
  {
   "cell_type": "markdown",
   "metadata": {},
   "source": [
    "Compute the first values and use the OEIS."
   ]
  },
  {
   "cell_type": "code",
   "execution_count": 42,
   "metadata": {},
   "outputs": [],
   "source": [
    "def Symmetric_symbolic_matrix(n):\n",
    "    R = PolynomialRing(QQ, n^2, 'x')\n",
    "    B = Matrix(R, n, n, R.gens())\n",
    "    C = list(B)\n",
    "    for i in range(B.nrows()):\n",
    "        for j in range(i):\n",
    "            C[i][j] = B[j][i]\n",
    "    return matrix(C)"
   ]
  },
  {
   "cell_type": "code",
   "execution_count": 48,
   "metadata": {},
   "outputs": [
    {
     "data": {
      "text/plain": [
       "[ x0  x1  x2  x3]\n",
       "[ x1  x5  x6  x7]\n",
       "[ x2  x6 x10 x11]\n",
       "[ x3  x7 x11 x15]"
      ]
     },
     "execution_count": 48,
     "metadata": {},
     "output_type": "execute_result"
    }
   ],
   "source": [
    "Symmetric_symbolic_matrixc_matrix(4)"
   ]
  },
  {
   "cell_type": "code",
   "execution_count": 43,
   "metadata": {},
   "outputs": [],
   "source": [
    "def L(n):\n",
    "    return len(Symmetric_symbolic_matrix(n).determinant().monomials())"
   ]
  },
  {
   "cell_type": "code",
   "execution_count": 46,
   "metadata": {},
   "outputs": [
    {
     "data": {
      "text/plain": [
       "[x2^2*x4, x1*x2*x5, x0*x5^2, x1^2*x8, x0*x4*x8]"
      ]
     },
     "execution_count": 46,
     "metadata": {},
     "output_type": "execute_result"
    }
   ],
   "source": [
    "Symmetric_symbolic_matrix(3).determinant().monomials()"
   ]
  },
  {
   "cell_type": "code",
   "execution_count": 47,
   "metadata": {},
   "outputs": [
    {
     "data": {
      "text/plain": [
       "[1, 2, 5, 17, 73, 388, 2461, 18155, 152531]"
      ]
     },
     "execution_count": 47,
     "metadata": {},
     "output_type": "execute_result"
    }
   ],
   "source": [
    "first_values_of_Ln = [L(n) for n in range(1, 10)]  # it takes a while\n",
    "first_values_of_Ln"
   ]
  },
  {
   "cell_type": "code",
   "execution_count": 49,
   "metadata": {},
   "outputs": [
    {
     "data": {
      "text/plain": [
       "0: A002135: Number of terms in a symmetrical determinant: a(n) = n*a(n-1) - (n-1)*(n-2)*a(n-3)/2."
      ]
     },
     "execution_count": 49,
     "metadata": {},
     "output_type": "execute_result"
    }
   ],
   "source": [
    "oeis(first_values_of_Ln)  # needs internet"
   ]
  },
  {
   "cell_type": "code",
   "execution_count": 51,
   "metadata": {},
   "outputs": [
    {
     "data": {
      "text/plain": [
       "(1,\n",
       " 1,\n",
       " 2,\n",
       " 5,\n",
       " 17,\n",
       " 73,\n",
       " 388,\n",
       " 2461,\n",
       " 18155,\n",
       " 152531,\n",
       " 1436714,\n",
       " 14986879,\n",
       " 171453343,\n",
       " 2134070335,\n",
       " 28708008128,\n",
       " 415017867707,\n",
       " 6416208498137,\n",
       " 105630583492969,\n",
       " 1844908072865290,\n",
       " 34071573484225549,\n",
       " 663368639907213281,\n",
       " 13580208904207073801)"
      ]
     },
     "execution_count": 51,
     "metadata": {},
     "output_type": "execute_result"
    }
   ],
   "source": [
    "more_values_of_Ln = oeis('A002135')[:25]  # needs internet\n",
    "more_values_of_Ln"
   ]
  },
  {
   "cell_type": "markdown",
   "metadata": {},
   "source": [
    "Compute the first values and guess a recurrence."
   ]
  },
  {
   "cell_type": "code",
   "execution_count": 52,
   "metadata": {},
   "outputs": [
    {
     "data": {
      "text/plain": [
       "2*Sn^3 + (-2*n - 6)*Sn^2 + n^2 + 3*n + 2"
      ]
     },
     "execution_count": 52,
     "metadata": {},
     "output_type": "execute_result"
    }
   ],
   "source": [
    "guess(more_values_of_Ln, OreAlgebra(ZZ['n'], 'Sn'))"
   ]
  },
  {
   "cell_type": "markdown",
   "metadata": {},
   "source": [
    "The recurrence guessed means, by rearranging the terms, that the number of monomials satisfies\n",
    "$S(n+3) = 3 S(n+2) + \\binom{n+2}{2} S(n)$. This is also on the OEIS (formula 1)"
   ]
  },
  {
   "cell_type": "code",
   "execution_count": 54,
   "metadata": {},
   "outputs": [
    {
     "data": {
      "text/plain": [
       "0: E.g.f.: (1-x)^(-1/2)*exp(x/2+x^2/4).\n",
       "1: a(n+1) = (n+1)*a(n) - binomial(n, 2)*a(n-2). See Comtet.\n",
       "2: Asymptotics: a(n) ~ sqrt(2)*exp(3/4-n)*n^n*(1+O(1/n)). - _Pietro Majer_, Oct 27 2009\n",
       "3: E.g.f.: G(0)/sqrt(1-x) where G(k) = 1 + x*(x+2)/(4*(2*k+1) - 4*x*(x+2)*(2*k+1)/(x*(x+2) + 8*(k + 1)/G(k+1) )); (continued fraction). - _Sergei N. Gladkovskii_, Jan 31 2013\n",
       "4: a(n) = Sum_{k=0..n} Sum_{i=0..k} binomial(k,i)*binomial(i-1/2,n-k)*(3^(k-i)*n!)/(4^k*k!)*(-1)^(n-k-i). - _Emanuele Munarini_, Aug 25 2017"
      ]
     },
     "execution_count": 54,
     "metadata": {},
     "output_type": "execute_result"
    }
   ],
   "source": [
    "oeis(2135).formulas()  # needs internet"
   ]
  },
  {
   "cell_type": "markdown",
   "metadata": {},
   "source": [
    "The proof of the formula does however not require a computer..."
   ]
  },
  {
   "cell_type": "markdown",
   "metadata": {},
   "source": [
    "References : \n",
    " * Bruno Salvy, *Experimental Mathematical & Computer Algebra; Exercises*. [Online](https://mathexp2018.metelu.net/slides_cours/salvy-exos.pdf)\n",
    " * Thierry Monteil, *Basics about ore_algebra package.* [Online](https://mathexp2018.metelu.net/worksheets/guessing/ore_algebra_basics/ore_algebra_basics.ipynb)\n",
    " * Manuel Kauers, Maximilian Jaroschek, and Fredrik Johansson. *The package Ore Algebra* [online](https://www3.risc.jku.at/research/combinat/software/ore_algebra/index.php) in SageMath."
   ]
  },
  {
   "cell_type": "code",
   "execution_count": null,
   "metadata": {},
   "outputs": [],
   "source": []
  }
 ],
 "metadata": {
  "kernelspec": {
   "display_name": "SageMath 8.8",
   "language": "sage",
   "name": "sagemath"
  },
  "language_info": {
   "codemirror_mode": {
    "name": "ipython",
    "version": 2
   },
   "file_extension": ".py",
   "mimetype": "text/x-python",
   "name": "python",
   "nbconvert_exporter": "python",
   "pygments_lexer": "ipython2",
   "version": "2.7.15"
  }
 },
 "nbformat": 4,
 "nbformat_minor": 2
}
