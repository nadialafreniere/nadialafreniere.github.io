{
 "cells": [
  {
   "cell_type": "markdown",
   "metadata": {
    "deletable": true,
    "editable": true
   },
   "source": [
    "# Algèbre linéraire avec Sage\n",
    "\n",
    "## Construction de matrices et de vecteurs\n",
    "\n",
    "Il y a plusieurs façons de générer des vecteurs et des matrices dans Sage. Nous en utiliserons quelques unes et verrons leurs propriétés."
   ]
  },
  {
   "cell_type": "markdown",
   "metadata": {
    "deletable": true,
    "editable": true
   },
   "source": [
    "### Vecteurs\n",
    "Créer le vecteur $x = (1, 2, \\ldots, 100)$."
   ]
  },
  {
   "cell_type": "markdown",
   "metadata": {
    "deletable": true,
    "editable": true
   },
   "source": [
    "Créer le vecteur $y = (1^2, 2^2, \\ldots, 100^2)$."
   ]
  },
  {
   "cell_type": "markdown",
   "metadata": {
    "deletable": true,
    "editable": true
   },
   "source": [
    "Calculer la norme des vecteurs $x$ et $y$."
   ]
  },
  {
   "cell_type": "markdown",
   "metadata": {
    "deletable": true,
    "editable": true
   },
   "source": [
    "Faites le produit scalaire ($x \\cdot y$) et le produit vectoriel ($x \\times y$) de $x$ et $y$."
   ]
  },
  {
   "cell_type": "markdown",
   "metadata": {
    "deletable": true,
    "editable": true
   },
   "source": [
    "Faites le produit scalaire des vecteurs $(a, b)$ et $(c, d)$."
   ]
  },
  {
   "cell_type": "markdown",
   "metadata": {
    "deletable": true,
    "editable": true
   },
   "source": [
    "### Matrices\n",
    "\n",
    "Créer la matrice\n",
    "$$M = \\left(\n",
    "\\begin{array}{rrrr}\n",
    "10 & 4 & 1 & 1 \\\\\n",
    "4 & 6 & 5 & 1 \\\\\n",
    "1 & 5 & 6 & 4 \\\\\n",
    "1 & 1 & 4 & 10\n",
    "\\end{array}\n",
    "\\right)$$\n",
    "de deux façons différentes."
   ]
  },
  {
   "cell_type": "markdown",
   "metadata": {
    "deletable": true,
    "editable": true
   },
   "source": [
    "Est-ce que les deux façons sont équivalentes? Faites un test pour le savoir."
   ]
  },
  {
   "cell_type": "markdown",
   "metadata": {
    "deletable": true,
    "editable": true
   },
   "source": [
    "Est-ce qu'une des deux façons permet de déterminer si la matrice est diagonalisable? Comment faire pour déterminer si la matrice est diagonalisable?"
   ]
  },
  {
   "cell_type": "markdown",
   "metadata": {
    "deletable": true,
    "editable": true
   },
   "source": [
    "Quelle est la forme échelonée de la matrice?"
   ]
  },
  {
   "cell_type": "markdown",
   "metadata": {
    "deletable": true,
    "editable": true
   },
   "source": [
    "Quelle est la façon optimale de créer la matrice \n",
    "$$M = \\left(\n",
    "\\begin{array}{rrrr}\n",
    "2 & 0 & 0 & 0 \\\\\n",
    "0 & 3 & 0 & 0 \\\\\n",
    "0 & 0 & 4 & 0 \\\\\n",
    "0 & 0 & 0 & 5\n",
    "\\end{array}\n",
    "\\right)?$$"
   ]
  },
  {
   "cell_type": "markdown",
   "metadata": {
    "deletable": true,
    "editable": true
   },
   "source": [
    "Pour quelles valeurs de $k$ le déterminant de la matrice suivante est $0$?\n",
    "\n",
    "$$\\left(\\begin{array}{rrr}\n",
    "1 & 1 & -1 \\\\\n",
    "2 & 3 & k \\\\\n",
    "1 & k & 3\n",
    "\\end{array}\\right)$$"
   ]
  },
  {
   "cell_type": "markdown",
   "metadata": {
    "deletable": true,
    "editable": true
   },
   "source": [
    "Trouver le déterminant des matrices suivantes.\n",
    "\n",
    "$$\n",
    "\\left(\\begin{array}{r}\n",
    "1\n",
    "\\end{array}\\right),\n",
    "\\left(\\begin{array}{rr}\n",
    "1 & 1 \\\\\n",
    "r & 1\n",
    "\\end{array}\\right),\n",
    "\\left(\\begin{array}{rrr}\n",
    "1 & 1 & 1 \\\\\n",
    "r & 1 & 1 \\\\\n",
    "r & r & 1\n",
    "\\end{array}\\right),\n",
    "\\left(\\begin{array}{rrrr}\n",
    "1 & 1 & 1 & 1 \\\\\n",
    "r & 1 & 1 & 1 \\\\\n",
    "r & r & 1 & 1 \\\\\n",
    "r & r & r & 1\n",
    "\\end{array}\\right),\n",
    "\\left(\\begin{array}{rrrrr}\n",
    "1 & 1 & 1 & 1 & 1 \\\\\n",
    "r & 1 & 1 & 1 & 1 \\\\\n",
    "r & r & 1 & 1 & 1 \\\\\n",
    "r & r & r & 1 & 1 \\\\\n",
    "r & r & r & r & 1\n",
    "\\end{array}\\right).$$\n",
    "\n",
    "Faire une conjecture au sujet du déterminant d'une matrice arbitraire de cette forme. Peut-on la prouver?"
   ]
  },
  {
   "cell_type": "markdown",
   "metadata": {
    "deletable": true,
    "editable": true
   },
   "source": [
    "Quel est le plus gros déterminant possible pour une matrice $3 \\times 3$ dont les entrées sont $(1, 2, \\ldots, 9)$?"
   ]
  }
 ],
 "metadata": {
  "kernelspec": {
   "display_name": "SageMath 8.1.beta3",
   "language": "",
   "name": "sagemath"
  },
  "language_info": {
   "codemirror_mode": {
    "name": "ipython",
    "version": 2
   },
   "file_extension": ".py",
   "mimetype": "text/x-python",
   "name": "python",
   "nbconvert_exporter": "python",
   "pygments_lexer": "ipython2",
   "version": "2.7.13"
  }
 },
 "nbformat": 4,
 "nbformat_minor": 2
}
