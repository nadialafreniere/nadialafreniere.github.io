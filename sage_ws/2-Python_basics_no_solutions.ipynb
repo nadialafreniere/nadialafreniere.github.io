{
 "cells": [
  {
   "cell_type": "markdown",
   "metadata": {},
   "source": [
    "# Tutorial : Python basics for using SageMayh\n",
    "\n",
    "The goal of this sequence of exercises is to make yourself familiar with some particularities of Python. If you ever programmed before, either in Python or in another language, this worksheet should be rather simple. The sections are in increasing difficulty.\n",
    "\n",
    "**Disclaimer: I am aware that some conventions here still rely on Python2, and that Sage will be moving to Python3 soon. However, you would have the basics by doing this, and this worksheet is aimed to work in Python3.**"
   ]
  },
  {
   "cell_type": "markdown",
   "metadata": {},
   "source": [
    "## Python Syntax\n",
    "\n",
    "Python has a very lightweight syntax. There is no curly bracket, semicolon of other elements that would influence the structure of the code.\n",
    "\n",
    "On the other hand, the indentation is fundamental. To describe the content of a block, we move it 4 spaces right of its header. The header ends with a colon."
   ]
  },
  {
   "cell_type": "markdown",
   "metadata": {},
   "source": [
    "Predict the output of each of the following blocks.\n",
    "```python\n",
    "sum_of_numbers = 0\n",
    "for i in range(10):  # If you do not know what range(n) is, try it!\n",
    "    sum_of_numbers = i + sum_of_numbers\n",
    "    print sum_of_numbers\n",
    "```\n",
    "and\n",
    "```python\n",
    "sum_of_numbers = 0\n",
    "for i in range(10):\n",
    "    sum_of_numbers = i + sum_of_numbers\n",
    "print sum_of_numbers\n",
    "```\n",
    "\n",
    "Check your answers by copying it into Python!"
   ]
  },
  {
   "cell_type": "markdown",
   "metadata": {},
   "source": [
    "## `for` and `while` Loops\n",
    "\n",
    "**If you ever programmed, you should probably skip this section.**\n",
    "\n",
    "Predict the output of the following:\n",
    "\n",
    "``` python\n",
    "s = str()\n",
    "for i in ['a', 'b', 'c', 'd']:\n",
    "    s = s + i\n",
    "print s\n",
    "```\n",
    "\n",
    "``` python\n",
    "import sympy\n",
    "sum = 0\n",
    "while i < 1000:\n",
    "    sum += sympy.prime(i)  # Challenge: Guess what sympy.prime(i) does\n",
    "print sum\n",
    "```\n",
    "\n",
    "In general, what do `while` and `for` do?"
   ]
  },
  {
   "cell_type": "code",
   "execution_count": 1,
   "metadata": {},
   "outputs": [],
   "source": [
    "# Try the first loop here"
   ]
  },
  {
   "cell_type": "code",
   "execution_count": 2,
   "metadata": {
    "scrolled": true
   },
   "outputs": [],
   "source": [
    "# Try the second one here"
   ]
  },
  {
   "cell_type": "markdown",
   "metadata": {},
   "source": [
    "`sympy.prime(i)` returns ..."
   ]
  },
  {
   "cell_type": "code",
   "execution_count": null,
   "metadata": {},
   "outputs": [],
   "source": [
    "# Your answer here"
   ]
  },
  {
   "cell_type": "markdown",
   "metadata": {},
   "source": []
  },
  {
   "cell_type": "markdown",
   "metadata": {},
   "source": []
  },
  {
   "cell_type": "markdown",
   "metadata": {},
   "source": [
    "Compute the value of $65!$."
   ]
  },
  {
   "cell_type": "code",
   "execution_count": 3,
   "metadata": {},
   "outputs": [],
   "source": [
    "from numpy import prod\n",
    "# Your answer here"
   ]
  },
  {
   "cell_type": "markdown",
   "metadata": {},
   "source": [
    "Does that make any sense? Can you think of what happened?"
   ]
  },
  {
   "cell_type": "code",
   "execution_count": 4,
   "metadata": {},
   "outputs": [],
   "source": [
    "from math import factorial\n",
    "# Your answer here"
   ]
  },
  {
   "cell_type": "markdown",
   "metadata": {},
   "source": [
    "## Data structures\n",
    "### Lists, sets and dictionaries\n",
    "\n",
    "Try to understand the behavior of these three structures with the functions`sort`, first element and `keys`.\n",
    "\n",
    "``` python\n",
    "struct1 = {'a': 'Alligator', 'b': 'Beluga'}\n",
    "struct2 = dict([('a', \"Alligator\"), ('b', \"Beluga\")])\n",
    "struct3 = ['Alligator', 'Beluga']\n",
    "struct4 = {'Alligator', 'Beluga'}\n",
    "struct5 = list(struct4)\n",
    "struct6 = set(struct3)\n",
    "struct7 = set(struct1)\n",
    "```\n",
    "\n",
    "Which of these are sets, lists and dictionaries? What specificities do each have?\n"
   ]
  },
  {
   "cell_type": "code",
   "execution_count": 24,
   "metadata": {},
   "outputs": [],
   "source": [
    "struct1 = {'a': 'Alligator', 'b': 'Beluga'}\n",
    "struct2 = dict([('a', \"Alligator\"), ('b', \"Beluga\")])\n",
    "struct3 = ['Alligator', 'Beluga']\n",
    "struct4 = {'Alligator', 'Beluga'}\n",
    "struct5 = list(struct4)\n",
    "struct6 = set(struct3)\n",
    "struct7 = set(struct1)"
   ]
  },
  {
   "cell_type": "code",
   "execution_count": null,
   "metadata": {},
   "outputs": [],
   "source": [
    "# Play with the data structures"
   ]
  },
  {
   "cell_type": "markdown",
   "metadata": {},
   "source": [
    "To what structure do \"Alligator\" and \"Beluga\" **not** belong?"
   ]
  },
  {
   "cell_type": "markdown",
   "metadata": {},
   "source": [
    "Your answer here, as text"
   ]
  },
  {
   "cell_type": "markdown",
   "metadata": {},
   "source": [
    "## `map` and `zip` functions\n",
    "\n",
    "This sections features two functions that are Python-specific and that operate on lists, namely `zip` and`map`.\n",
    "\n",
    "`zip` takes two lists of the same length, and creates a new list  of tuples for each pair of items. Thus, the first tuple of the new list contains the two heads of the original lists.\n",
    "\n",
    "`map` uses a function and an iterable (a list, a tuple, etc.). It applies the function to each element of the iterable. Here are some examples for the map `len`, `prod`, `sum`, `min`, `max`, `set` and `sorted`.\n"
   ]
  },
  {
   "cell_type": "markdown",
   "metadata": {},
   "source": [
    "With the following lists, try the functions `zip` and `map`.\n",
    "```python\n",
    "l1 = [3, 4, 5, 6]\n",
    "l2 = [10, 15, 20, 25]\n",
    "l3 = ['a', 'b', 'c', 'd']\n",
    "l4 = [7, 11, 13, 17, 19]\n",
    "```"
   ]
  },
  {
   "cell_type": "code",
   "execution_count": 5,
   "metadata": {},
   "outputs": [],
   "source": [
    "l1 = [3, 4, 5, 6]\n",
    "l2 = [10, 15, 20, 25]\n",
    "l3 = ['a', 'b', 'c', 'd']\n",
    "l4 = [7, 11, 13, 17, 19]"
   ]
  },
  {
   "cell_type": "code",
   "execution_count": 6,
   "metadata": {},
   "outputs": [],
   "source": [
    "# Play with them"
   ]
  },
  {
   "cell_type": "markdown",
   "metadata": {},
   "source": [
    "Can you get the sum of the elements of the first list?"
   ]
  },
  {
   "cell_type": "code",
   "execution_count": 8,
   "metadata": {},
   "outputs": [],
   "source": [
    "# Your answer here"
   ]
  },
  {
   "cell_type": "markdown",
   "metadata": {},
   "source": [
    "What happens if `zip` is applied to more than one list?"
   ]
  },
  {
   "cell_type": "code",
   "execution_count": 9,
   "metadata": {},
   "outputs": [],
   "source": [
    "# Try it!"
   ]
  },
  {
   "cell_type": "markdown",
   "metadata": {},
   "source": [
    "What happens if `zip` is applied to lists with distinct lengths?"
   ]
  },
  {
   "cell_type": "code",
   "execution_count": 10,
   "metadata": {},
   "outputs": [],
   "source": [
    "# Try it!"
   ]
  },
  {
   "cell_type": "markdown",
   "metadata": {},
   "source": [
    "Only with the functions presented here, compute the dot product of `l1` and `l2`."
   ]
  },
  {
   "cell_type": "code",
   "execution_count": 12,
   "metadata": {},
   "outputs": [],
   "source": [
    "# Your answer here"
   ]
  },
  {
   "cell_type": "code",
   "execution_count": 11,
   "metadata": {},
   "outputs": [],
   "source": [
    "# Works only with Sage\n",
    "#vector(l1) * vector(l2)"
   ]
  },
  {
   "cell_type": "markdown",
   "metadata": {},
   "source": [
    "## Functional programing with Python:  `lambda`\n",
    "\n",
    "The `lambda` funciton is a way to create a simple function as a one-liner. Its syntax is as in the following example:\n",
    "``` python\n",
    "addition = lambda x, y: x+y \n",
    "```\n",
    "Define and use a function called power, using the lambda function."
   ]
  },
  {
   "cell_type": "code",
   "execution_count": 29,
   "metadata": {},
   "outputs": [],
   "source": [
    "# Your answer here"
   ]
  },
  {
   "cell_type": "markdown",
   "metadata": {},
   "source": [
    "Create a new list using the lists `l1` and `l2`.\n",
    "Use the list `l1` as values for the exponents, and the values of `l2` for the bases. \n",
    "Find the answer in three different ways.\n",
    "\n",
    "* with a  `for` loop\n",
    "* with a `while` loop\n",
    "* with the `lambda` function.\n",
    "\n",
    "Compare the answers and the time needed to compute it (try typing %time at the beginning of the cell)."
   ]
  },
  {
   "cell_type": "code",
   "execution_count": 14,
   "metadata": {},
   "outputs": [],
   "source": [
    "# Your answer here"
   ]
  }
 ],
 "metadata": {
  "kernelspec": {
   "display_name": "Python 3",
   "language": "python",
   "name": "python3"
  },
  "language_info": {
   "codemirror_mode": {
    "name": "ipython",
    "version": 2
   },
   "file_extension": ".py",
   "mimetype": "text/x-python",
   "name": "python",
   "nbconvert_exporter": "python",
   "pygments_lexer": "ipython2",
   "version": "2.7.15"
  }
 },
 "nbformat": 4,
 "nbformat_minor": 2
}
