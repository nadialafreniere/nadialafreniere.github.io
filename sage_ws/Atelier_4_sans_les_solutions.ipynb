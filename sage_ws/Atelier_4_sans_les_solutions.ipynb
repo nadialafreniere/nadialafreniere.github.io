{
 "cells": [
  {
   "cell_type": "markdown",
   "metadata": {
    "deletable": true,
    "editable": true
   },
   "source": [
    "# Théorie de la représentation avec Sage\n",
    "\n",
    "Cette feuille de travail est inspirée du tutoriel fait par Liang Ze Wong sur son blogue, [disponible ici](https://sheaves.github.io/Representation-Theory-Intro/). Sur ce blogue, on trouve six feuilles de travail portant sur la théorie de la représentation. Il est vivement recommandé d'aller y faire un tour!\n",
    "\n",
    "D'autres informations peuvent être trouvées dans la [documentation de Sage](https://doc.sagemath.org/html/en/reference/combinat/sage/combinat/symmetric_group_representations.html).\n",
    "\n",
    "## Bases de la théorie\n",
    "\n",
    "Soit $G$ un groupe. Une représentation est un morphisme $G \\to GL(V)$. Si $G$ est fini et que $V$ est de dimension $n$, $GL(V)$ désigne les matrices inversibles de dimension $n$.\n",
    "Comme une représentation est un morphisme de groupe, il s'agit d'une fonction satisfaisant\n",
    "$$ \\rho(gh) = \\rho(g)\\rho(h), \\ \\forall g,h \\in G. $$\n",
    "\n"
   ]
  },
  {
   "cell_type": "markdown",
   "metadata": {
    "deletable": true,
    "editable": true
   },
   "source": [
    "Tester si les fonctions suivantes sont des représentations.\n",
    "\n",
    "1. $\\rho(g) = 0$.\n",
    "2. $\\rho(g) = \\mathbb{1}_{n}$.\n",
    "3. $\\rho(g) = g_*$, où $g_*(f) : x \\mapsto f(g^{-1}x)$, avec $f$ qui est une fonction sur l'algèbre du groupe.\n",
    "4. $\\pi(g) = \\rho(g^{-1})$, où $\\rho$ est le morphisme défini en 3.\n"
   ]
  },
  {
   "cell_type": "code",
   "execution_count": 11,
   "metadata": {
    "collapsed": true
   },
   "outputs": [],
   "source": [
    "G = SymmetricGroup(3)\n",
    "n = 3\n",
    "\n",
    "def rho1(g):\n",
    "    return matrix.zero(n)"
   ]
  },
  {
   "cell_type": "code",
   "execution_count": 3,
   "metadata": {
    "collapsed": false
   },
   "outputs": [
    {
     "data": {
      "text/plain": [
       "[0 0 0]\n",
       "[0 0 0]\n",
       "[0 0 0]"
      ]
     },
     "execution_count": 3,
     "metadata": {},
     "output_type": "execute_result"
    }
   ],
   "source": [
    "g = G.random_element()\n",
    "rho1(g)"
   ]
  },
  {
   "cell_type": "code",
   "execution_count": 4,
   "metadata": {
    "collapsed": false
   },
   "outputs": [
    {
     "data": {
      "text/plain": [
       "[0 0 0]\n",
       "[0 0 0]\n",
       "[0 0 0]"
      ]
     },
     "execution_count": 4,
     "metadata": {},
     "output_type": "execute_result"
    }
   ],
   "source": [
    "rho1(G.identity())"
   ]
  },
  {
   "cell_type": "code",
   "execution_count": 8,
   "metadata": {
    "collapsed": true
   },
   "outputs": [],
   "source": [
    "G = SymmetricGroup(3)\n",
    "n = 3\n",
    "\n",
    "def rho2(g):\n",
    "    return matrix.identity(n)"
   ]
  },
  {
   "cell_type": "code",
   "execution_count": 10,
   "metadata": {
    "collapsed": false
   },
   "outputs": [
    {
     "name": "stdout",
     "output_type": "stream",
     "text": [
      "True\n",
      "True\n",
      "True\n",
      "True\n",
      "True\n",
      "True\n"
     ]
    }
   ],
   "source": [
    "for g in G:\n",
    "    print rho2(g).is_invertible()\n",
    "    for h in G:\n",
    "        if rho2(g*h) != rho2(g)*rho2(h):\n",
    "            print g, h, \":(\""
   ]
  },
  {
   "cell_type": "code",
   "execution_count": 25,
   "metadata": {
    "collapsed": true
   },
   "outputs": [],
   "source": [
    "def regular_representation(g, G, FG):  #g est un élémentde G, G est un groupe et FG est l'algèbre du groupe\n",
    "    g = FG(g)\n",
    "    return matrix([(g*FG(h)).to_vector() for h in G]).transpose()"
   ]
  },
  {
   "cell_type": "code",
   "execution_count": 26,
   "metadata": {
    "collapsed": false
   },
   "outputs": [
    {
     "name": "stdout",
     "output_type": "stream",
     "text": [
      "True\n",
      "True\n",
      "True\n",
      "True\n",
      "True\n",
      "True\n",
      "True\n",
      "True\n"
     ]
    }
   ],
   "source": [
    "G = DihedralGroup(4)\n",
    "rho3 = lambda g : regular_representation(g, G, GroupAlgebra(G, QQ))\n",
    "for g in G:\n",
    "    print rho3(g).is_invertible()\n",
    "    for h in G:\n",
    "        if rho3(g*h) != rho3(g)*rho3(h):\n",
    "            print g, h, \":(\""
   ]
  },
  {
   "cell_type": "markdown",
   "metadata": {
    "deletable": true,
    "editable": true
   },
   "source": [
    "## Caractères\n",
    "\n",
    "Le _caractère_ d'une représentation est un outil beaucoup plus simple que la représentation. En plus, il répond plus facilement à nos questions. Grâce au caractère, il est très simple de savoir si une représentation est irréductible et si deux éléments du groupe sont conjugués, par exemple.\n",
    "\n",
    "Pour une représentation donnée, son caractère est un vecteur composé des traces de chacune des matrices. (Si vous avez oublié ce qu'est la trace, vous pouvez l'essayer pour une matrice `(M.trace())` ).\n"
   ]
  },
  {
   "cell_type": "markdown",
   "metadata": {
    "deletable": true,
    "editable": true
   },
   "source": [
    "Calculer, pour plusieurs éléments de $S_3$, la valeur de la trace pour la représentation régulière (celle définie en 3., plus haut). Qu'observez-vous?"
   ]
  },
  {
   "cell_type": "markdown",
   "metadata": {
    "deletable": true,
    "editable": true
   },
   "source": [
    "Pour la représentation par permutations, on peut utiliser `G.character()` si $G$ est un groupe de permutations. Pour la table des caractères des représentations irréductibles, on peut aussi utiliser `G.character_table()`. Essayez-le."
   ]
  },
  {
   "cell_type": "markdown",
   "metadata": {
    "deletable": true,
    "editable": true
   },
   "source": [
    "### Pour le groupe diédral\n",
    "On définira une deuxième représentation plus naturelle en regard de la fonction du groupe diédral.\n",
    "\n",
    "Allez sur [cette page wikipédia](https://en.wikipedia.org/wiki/Dihedral_group#Matrix_representation). $r_1$ et $s_1$ permettent de définir tout le groupe. Définissez les matrices pour ces éléments, puis construisez les matrices pour chaque élément du groupe (avec la définition d'une représenation)."
   ]
  },
  {
   "cell_type": "markdown",
   "metadata": {},
   "source": [
    "Évaluez son caractère."
   ]
  },
  {
   "cell_type": "markdown",
   "metadata": {
    "deletable": true,
    "editable": true
   },
   "source": [
    "Vérifiez que c'est possible."
   ]
  },
  {
   "cell_type": "markdown",
   "metadata": {
    "deletable": true,
    "editable": true
   },
   "source": [
    "## Sur le groupe symétrique\n",
    "\n",
    "Dans le cas du groupe symétrique, il existe plusieurs «raccourcis» pour la théorie de la représentation. On connaît notamment les représentations irréductibles et certaines fonctions sont déjà définies."
   ]
  },
  {
   "cell_type": "markdown",
   "metadata": {
    "deletable": true,
    "editable": true
   },
   "source": [
    "Trouvez quelques représentations du groupe symétrique et les façons de travailler avec (surtout pour les combinatoricien.ne.s et utilisez les fonctions reliées.\n",
    "Essayez les représentations de Specht et seminormales."
   ]
  },
  {
   "cell_type": "markdown",
   "metadata": {},
   "source": [
    "## Produit tensoriel\n",
    "Le produit tensoriel de représentation permet de créer de nouvelles représentations. "
   ]
  },
  {
   "cell_type": "markdown",
   "metadata": {
    "deletable": true,
    "editable": true
   },
   "source": [
    "Faire le produit tensoriel des deux représentations calculées pour le partage $(2,1)$. Est-ce commutatif?"
   ]
  },
  {
   "cell_type": "code",
   "execution_count": null,
   "metadata": {
    "collapsed": true,
    "deletable": true,
    "editable": true
   },
   "outputs": [],
   "source": []
  }
 ],
 "metadata": {
  "kernelspec": {
   "display_name": "SageMath 8.1.beta3",
   "language": "",
   "name": "sagemath"
  },
  "language_info": {
   "codemirror_mode": {
    "name": "ipython",
    "version": 2
   },
   "file_extension": ".py",
   "mimetype": "text/x-python",
   "name": "python",
   "nbconvert_exporter": "python",
   "pygments_lexer": "ipython2",
   "version": "2.7.13"
  }
 },
 "nbformat": 4,
 "nbformat_minor": 2
}
