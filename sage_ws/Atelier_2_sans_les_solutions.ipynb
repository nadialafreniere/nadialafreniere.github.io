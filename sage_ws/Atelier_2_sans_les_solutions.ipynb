{
 "cells": [
  {
   "cell_type": "markdown",
   "metadata": {},
   "source": [
    "# Tutoriel : Bases en Python pour l'utilisation de Sage\n",
    "\n",
    "Le but de cette séance d'exercices est de se familiariser avec certaines particularités de Python. Si vous avez déjà programmé, en Python ou non, la feuille devrait être plutôt simple. Les sections sont en ordre croissant de difficulté."
   ]
  },
  {
   "cell_type": "markdown",
   "metadata": {},
   "source": [
    "## Syntaxe en python\n",
    "\n",
    "Python a une syntaxe plutôt légère : à cet effet, on ne retrouve pas d'acolades ({}) pour diviser les blocs, de point-virgules, ni d'autres éléments forçant la structure.\n",
    "En revanche, l'indentation est fondamentale. Pour décrire le contenu d'un bloc, on le décale de 4 espaces relativement à son en-tête. Son en-tête termine aussi par les deux-points."
   ]
  },
  {
   "cell_type": "markdown",
   "metadata": {},
   "source": [
    "Prédisez la sortie de chacun des deux blocs suivants :\n",
    "```python\n",
    "sum = 0\n",
    "for i in range(10):  # Si vous ne connaissez pas range(n), essayez-le\n",
    "    sum = i + sum\n",
    "    print sum\n",
    "```\n",
    "et\n",
    "```python\n",
    "sum = 0\n",
    "for i in range(10):\n",
    "    sum = i + sum\n",
    "print sum\n",
    "```\n",
    "\n",
    "Vérifiez vos réponses en évaluant ces entrées dans Python."
   ]
  },
  {
   "cell_type": "markdown",
   "metadata": {},
   "source": [
    "## Boucles `for` et `while`\n",
    "\n",
    "**Cette section est facultative si vous connaissez la programmation. **\n",
    "\n",
    "Prédisez les sorties des entrées suivantes :\n",
    "\n",
    "``` python\n",
    "s = str()\n",
    "for i in ['a', 'b', 'c', 'd']:\n",
    "    s = s + i\n",
    "print s\n",
    "```\n",
    "\n",
    "``` python\n",
    "import sympy\n",
    "sum = 0\n",
    "while i < 1000:\n",
    "    sum += sympy.prime(i)  # Défi : trouve ce que fais sympy.prime(i)\n",
    "print sum\n",
    "```\n",
    "\n",
    "En général, que font `while` et `for`?"
   ]
  },
  {
   "cell_type": "code",
   "execution_count": 3,
   "metadata": {},
   "outputs": [
    {
     "name": "stdout",
     "output_type": "stream",
     "text": [
      "\n",
      "abcd\n"
     ]
    }
   ],
   "source": [
    "s = str()\n",
    "print s\n",
    "for i in ['a', 'b', 'c', 'd']:\n",
    "    s = s + i\n",
    "print s"
   ]
  },
  {
   "cell_type": "code",
   "execution_count": 8,
   "metadata": {
    "scrolled": true
   },
   "outputs": [
    {
     "name": "stdout",
     "output_type": "stream",
     "text": [
      "3674994\n"
     ]
    }
   ],
   "source": [
    "import sympy\n",
    "sum = 0\n",
    "i = 1\n",
    "while i < 1000:\n",
    "    sum += sympy.prime(i)  # Défi : trouve ce que fais sympy.prime(i)\n",
    "    i = i + 1\n",
    "print sum"
   ]
  },
  {
   "cell_type": "code",
   "execution_count": null,
   "metadata": {
    "collapsed": true
   },
   "outputs": [],
   "source": []
  },
  {
   "cell_type": "markdown",
   "metadata": {},
   "source": [
    "Calculez la valeur de $65!$ (c'est-à-dire $65 \\cdot 64 \\cdot 63 \\cdot \\ldots \\cdot 3 \\cdot 2 \\cdot 1$)."
   ]
  },
  {
   "cell_type": "code",
   "execution_count": 10,
   "metadata": {},
   "outputs": [
    {
     "data": {
      "text/plain": [
       "8247650592082470666723170306785496252186258551345437492922123134388955774976000000000000000L"
      ]
     },
     "execution_count": 10,
     "metadata": {},
     "output_type": "execute_result"
    }
   ],
   "source": [
    "prod(range(1, 66))"
   ]
  },
  {
   "cell_type": "markdown",
   "metadata": {},
   "source": [
    "## Structures de données\n",
    "### Listes, ensembles et dictionnaires\n",
    "\n",
    "Différenciez les trois structures à l'aide des fonctions `sort`, prendre le premier élément et `keys`.\n",
    "\n",
    "``` python\n",
    "struct1 = {'a': 'Alligator', 'b': 'Beluga'}\n",
    "struct2 = dict([('a', \"Alligator\"), ('b', \"Beluga\")])\n",
    "struct3 = ['Alligator', 'Beluga']\n",
    "struct4 = {'Alligator', 'Beluga'}\n",
    "struct5 = list(struct4)\n",
    "struct6 = set(struct3)\n",
    "struct7 = set(struct1)\n",
    "```\n",
    "\n",
    "Dire quelles structures sont des ensembles, des listes et des dictionnaires. Quelles sont les particularités de chacune de ces structures?\n"
   ]
  },
  {
   "cell_type": "code",
   "execution_count": 14,
   "metadata": {
    "collapsed": true
   },
   "outputs": [],
   "source": [
    "struct1 = {'a': 'Alligator', 'b': 'Beluga'}\n",
    "struct2 = dict([('a', \"Alligator\"), ('b', \"Beluga\")])\n",
    "struct3 = ['Alligator', 'Beluga']\n",
    "struct4 = {'Alligator', 'Beluga'}\n",
    "struct5 = list(struct4)\n",
    "struct6 = set(struct3)\n",
    "struct7 = set(struct1)"
   ]
  },
  {
   "cell_type": "code",
   "execution_count": null,
   "metadata": {},
   "outputs": [],
   "source": []
  },
  {
   "cell_type": "markdown",
   "metadata": {},
   "source": [
    "Dans quelle structure ne retrouve-t-on pas les éléments \"Alligator\" et \"Beluga\"?"
   ]
  },
  {
   "cell_type": "markdown",
   "metadata": {},
   "source": [
    "## Fonctions `map` et `zip`\n",
    "\n",
    "Cette section présente deux fonctions caractéristiques de Python que l'on peut utiliser sur les listes, soit `zip` et `map`.\n",
    "\n",
    "`zip` prend deux listes de même taille et crée des tuples pour chaque pair d'éléments. Ainsi, le premier tuple de la nouvelle liste contiendra les deux éléments en tête de nos listes d'origine.\n",
    "\n",
    "`map` utilise une fonction et un itérable (par exemple une liste ou un tuple) et applique la fonction à chaque élément de l'itérable.\n",
    "Des exemples de fonctions pouvant être utilisées sont `len`, `prod`, `sum`, `min`, `max`, `set` et `sorted`.\n"
   ]
  },
  {
   "cell_type": "markdown",
   "metadata": {},
   "source": [
    "À l'aide des listes suivantes, essayez les fonctions `zip` et `map`.\n",
    "```python\n",
    "l1 = [3, 4, 5, 6]\n",
    "l2 = [10, 15, 20, 25]\n",
    "l3 = ['a', 'b', 'c', 'd']\n",
    "l4 = [7, 11, 13, 17, 19]\n",
    "```"
   ]
  },
  {
   "cell_type": "code",
   "execution_count": 21,
   "metadata": {
    "collapsed": true
   },
   "outputs": [],
   "source": [
    "reset()\n",
    "l1 = [3, 4, 5, 6]\n",
    "l2 = [10, 15, 20, 25]\n",
    "l3 = ['a', 'b', 'c', 'd']\n",
    "l4 = [7, 11, 13, 17, 19]"
   ]
  },
  {
   "cell_type": "code",
   "execution_count": 24,
   "metadata": {},
   "outputs": [
    {
     "data": {
      "text/plain": [
       "18"
      ]
     },
     "execution_count": 24,
     "metadata": {},
     "output_type": "execute_result"
    }
   ],
   "source": [
    "sum(l1)"
   ]
  },
  {
   "cell_type": "code",
   "execution_count": 27,
   "metadata": {},
   "outputs": [
    {
     "name": "stdout",
     "output_type": "stream",
     "text": [
      "[(3, (10, 'a')), (4, (15, 'b')), (5, (20, 'c')), (6, (25, 'd'))]\n",
      "[((3, 10), 'a'), ((4, 15), 'b'), ((5, 20), 'c'), ((6, 25), 'd')]\n",
      "[(3, 10, 'a'), (4, 15, 'b'), (5, 20, 'c'), (6, 25, 'd')]\n"
     ]
    }
   ],
   "source": [
    "print zip(l1, zip(l2, l3))\n",
    "print zip(zip(l1, l2), l3)\n",
    "print zip(l1, l2, l3)"
   ]
  },
  {
   "cell_type": "markdown",
   "metadata": {},
   "source": [
    "Que se passe-t-il lorsqu'on applique `zip` à plus de deux listes?"
   ]
  },
  {
   "cell_type": "markdown",
   "metadata": {},
   "source": [
    "Que se passe-t-il lorsqu'on applique `zip` à des listes de différentes tailles?"
   ]
  },
  {
   "cell_type": "code",
   "execution_count": 32,
   "metadata": {},
   "outputs": [
    {
     "data": {
      "text/plain": [
       "340"
      ]
     },
     "execution_count": 32,
     "metadata": {},
     "output_type": "execute_result"
    }
   ],
   "source": [
    "sum(map(prod, zip(l1, l2)))"
   ]
  },
  {
   "cell_type": "markdown",
   "metadata": {},
   "source": [
    "Uniquement avec les fonctions présentées ci-haut, faites un produit scalaire des listes `l1` et `l2`. Comparez le résultat avec le produit scalaire dans Sage (indice pour le faire dans Sage : transformer les listes en vecteurs, puis appliquer le produit)."
   ]
  },
  {
   "cell_type": "code",
   "execution_count": 33,
   "metadata": {},
   "outputs": [
    {
     "data": {
      "text/plain": [
       "340"
      ]
     },
     "execution_count": 33,
     "metadata": {},
     "output_type": "execute_result"
    }
   ],
   "source": [
    "vector(l1) * vector(l2)"
   ]
  },
  {
   "cell_type": "markdown",
   "metadata": {},
   "source": [
    "Faites le produit scalaire des listes `l1` et `l3`. Pouvez-vous comparer votre réponse avec le résultat obtenu par une fonction de Sage?"
   ]
  },
  {
   "cell_type": "code",
   "execution_count": 48,
   "metadata": {},
   "outputs": [
    {
     "data": {
      "text/plain": [
       "'aaabbbbcccccdddddd'"
      ]
     },
     "execution_count": 48,
     "metadata": {},
     "output_type": "execute_result"
    }
   ],
   "source": [
    "''.join(map(prod, zip(l1, l3)))"
   ]
  },
  {
   "cell_type": "markdown",
   "metadata": {},
   "source": [
    "## Programmation fonctionnelle avec python : la fonction `lambda`\n",
    "\n",
    "La fonction `lambda` est une façon de créer une fonction simple en une ligne seulement. Sa syntaxe est comme dans l'exemple suivant :\n",
    "``` python\n",
    "addition = lambda x, y: x+y \n",
    "```\n",
    "Définir et utiliser une fonction puissance à l'aide de la fonction lambda."
   ]
  },
  {
   "cell_type": "code",
   "execution_count": 49,
   "metadata": {
    "collapsed": true
   },
   "outputs": [],
   "source": [
    "puissance = lambda x, y: x**y"
   ]
  },
  {
   "cell_type": "markdown",
   "metadata": {},
   "source": [
    "Créez une nouvelle liste à partir des listes `l1` et `l2`.\n",
    "Utiliser la liste `l1` comme valeurs pour les exposants et les valeurs de la liste `l2` pour les bases. \n",
    "Trouvez la réponse trois fois :\n",
    "* à l'aide d'une boucle `for`\n",
    "* à l'aide d'une boucle `while` \n",
    "* avec la fonction `lambda`.\n",
    "\n",
    "Comparez les réponses."
   ]
  },
  {
   "cell_type": "code",
   "execution_count": 52,
   "metadata": {},
   "outputs": [
    {
     "data": {
      "text/plain": [
       "[1000, 50625, 3200000, 244140625]"
      ]
     },
     "execution_count": 52,
     "metadata": {},
     "output_type": "execute_result"
    }
   ],
   "source": [
    "L1 = zip(l2, l1)\n",
    "list_power = lambda (x, y): pow(x, y)\n",
    "map(list_power, L1)"
   ]
  },
  {
   "cell_type": "code",
   "execution_count": 53,
   "metadata": {
    "collapsed": true
   },
   "outputs": [],
   "source": [
    "compose?"
   ]
  },
  {
   "cell_type": "code",
   "execution_count": null,
   "metadata": {
    "collapsed": true
   },
   "outputs": [],
   "source": []
  }
 ],
 "metadata": {
  "kernelspec": {
   "display_name": "SageMath 8.2",
   "language": "",
   "name": "sagemath"
  },
  "language_info": {
   "codemirror_mode": {
    "name": "ipython",
    "version": 2
   },
   "file_extension": ".py",
   "mimetype": "text/x-python",
   "name": "python",
   "nbconvert_exporter": "python",
   "pygments_lexer": "ipython2",
   "version": "2.7.14"
  }
 },
 "nbformat": 4,
 "nbformat_minor": 2
}
