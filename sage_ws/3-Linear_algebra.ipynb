{
 "cells": [
  {
   "cell_type": "markdown",
   "metadata": {},
   "source": [
    "# Linear Algebra With Sage\n",
    "\n",
    "## Declaring matrices and vectors\n",
    "\n",
    "There are many ways of generating vectors and matrices within SageMath. We will use some of them and look at their properties."
   ]
  },
  {
   "cell_type": "markdown",
   "metadata": {},
   "source": [
    "### Vectors\n",
    "Create the vector $x = (1, 2, \\ldots, 100)$."
   ]
  },
  {
   "cell_type": "code",
   "execution_count": null,
   "metadata": {},
   "outputs": [],
   "source": [
    "# Your answer here"
   ]
  },
  {
   "cell_type": "markdown",
   "metadata": {},
   "source": [
    "Create the vector $y = (1^2, 2^2, \\ldots, 100^2)$."
   ]
  },
  {
   "cell_type": "code",
   "execution_count": 2,
   "metadata": {},
   "outputs": [],
   "source": [
    "# Your answer here"
   ]
  },
  {
   "cell_type": "markdown",
   "metadata": {},
   "source": [
    "Compute the norm of each vector $x$ and $y$."
   ]
  },
  {
   "cell_type": "code",
   "execution_count": 3,
   "metadata": {},
   "outputs": [],
   "source": [
    "# Your answer here"
   ]
  },
  {
   "cell_type": "markdown",
   "metadata": {},
   "source": [
    "Compute the dot product ($x \\cdot y$) and the cross product ($x \\times y$) of $x$ and $y$."
   ]
  },
  {
   "cell_type": "code",
   "execution_count": 4,
   "metadata": {},
   "outputs": [],
   "source": [
    "# Your answer here"
   ]
  },
  {
   "cell_type": "markdown",
   "metadata": {},
   "source": [
    "### Matrices\n",
    "\n",
    "Declare the matrix\n",
    "$$M = \\left(\n",
    "\\begin{array}{rrrr}\n",
    "10 & 4 & 1 & 1 \\\\\n",
    "4 & 6 & 5 & 1 \\\\\n",
    "1 & 5 & 6 & 4 \\\\\n",
    "1 & 1 & 4 & 10\n",
    "\\end{array}\n",
    "\\right)$$\n",
    "in at least two different ways."
   ]
  },
  {
   "cell_type": "code",
   "execution_count": 5,
   "metadata": {},
   "outputs": [],
   "source": [
    "# Your answer here"
   ]
  },
  {
   "cell_type": "code",
   "execution_count": null,
   "metadata": {},
   "outputs": [],
   "source": [
    "# Your answer here"
   ]
  },
  {
   "cell_type": "markdown",
   "metadata": {},
   "source": [
    "Are these ways equivalent? How would you know?"
   ]
  },
  {
   "cell_type": "code",
   "execution_count": 6,
   "metadata": {},
   "outputs": [],
   "source": [
    "# Your answer here"
   ]
  },
  {
   "cell_type": "markdown",
   "metadata": {},
   "source": [
    "Which of the matrices you declared is diagonalizable, for SageMath? How do you ask SageMath to check whether or not a matrix is diagonalzable?"
   ]
  },
  {
   "cell_type": "code",
   "execution_count": 7,
   "metadata": {},
   "outputs": [],
   "source": [
    "# Your answer here"
   ]
  },
  {
   "cell_type": "markdown",
   "metadata": {},
   "source": [
    "What is the echelon-form of the matrix?"
   ]
  },
  {
   "cell_type": "code",
   "execution_count": 8,
   "metadata": {},
   "outputs": [],
   "source": [
    "# Your answer here"
   ]
  },
  {
   "cell_type": "markdown",
   "metadata": {},
   "source": [
    "What is the optimal way of generating\n",
    "$$M = \\left(\n",
    "\\begin{array}{rrrr}\n",
    "2 & 0 & 0 & 0 \\\\\n",
    "0 & 3 & 0 & 0 \\\\\n",
    "0 & 0 & 4 & 0 \\\\\n",
    "0 & 0 & 0 & 5\n",
    "\\end{array}\n",
    "\\right)?$$"
   ]
  },
  {
   "cell_type": "code",
   "execution_count": 1,
   "metadata": {},
   "outputs": [],
   "source": [
    "# Your answer here"
   ]
  },
  {
   "cell_type": "markdown",
   "metadata": {},
   "source": [
    "For which values of $k$ the determinant of the following matrix is $0$?\n",
    "\n",
    "$$\\left(\\begin{array}{rrr}\n",
    "1 & 1 & -1 \\\\\n",
    "2 & 3 & k \\\\\n",
    "1 & k & 3\n",
    "\\end{array}\\right)$$"
   ]
  },
  {
   "cell_type": "code",
   "execution_count": null,
   "metadata": {},
   "outputs": [],
   "source": [
    "# Your answer here"
   ]
  },
  {
   "cell_type": "markdown",
   "metadata": {},
   "source": [
    "Find the determinant of the following matrices.\n",
    "\n",
    "$$\n",
    "\\left(\\begin{array}{r}\n",
    "1\n",
    "\\end{array}\\right),\n",
    "\\left(\\begin{array}{rr}\n",
    "1 & 1 \\\\\n",
    "r & 1\n",
    "\\end{array}\\right),\n",
    "\\left(\\begin{array}{rrr}\n",
    "1 & 1 & 1 \\\\\n",
    "r & 1 & 1 \\\\\n",
    "r & r & 1\n",
    "\\end{array}\\right),\n",
    "\\left(\\begin{array}{rrrr}\n",
    "1 & 1 & 1 & 1 \\\\\n",
    "r & 1 & 1 & 1 \\\\\n",
    "r & r & 1 & 1 \\\\\n",
    "r & r & r & 1\n",
    "\\end{array}\\right),\n",
    "\\left(\\begin{array}{rrrrr}\n",
    "1 & 1 & 1 & 1 & 1 \\\\\n",
    "r & 1 & 1 & 1 & 1 \\\\\n",
    "r & r & 1 & 1 & 1 \\\\\n",
    "r & r & r & 1 & 1 \\\\\n",
    "r & r & r & r & 1\n",
    "\\end{array}\\right).$$\n",
    "\n",
    "\n",
    "Can you elaborate a conjecture about the determinant of an arbitrary matrix of this form? Can you prove it?"
   ]
  },
  {
   "cell_type": "code",
   "execution_count": null,
   "metadata": {},
   "outputs": [],
   "source": [
    "# Your answer here"
   ]
  },
  {
   "cell_type": "markdown",
   "metadata": {},
   "source": [
    "What is the greatest possible determinant for a $3 \\times 3$ matrix whose entries are $\\{1, 2, \\ldots, 9\\}$?"
   ]
  },
  {
   "cell_type": "code",
   "execution_count": null,
   "metadata": {},
   "outputs": [],
   "source": [
    "# Your answer here"
   ]
  }
 ],
 "metadata": {
  "kernelspec": {
   "display_name": "SageMath 8.9.beta9",
   "language": "sage",
   "name": "sagemath"
  },
  "language_info": {
   "codemirror_mode": {
    "name": "ipython",
    "version": 2
   },
   "file_extension": ".py",
   "mimetype": "text/x-python",
   "name": "python",
   "nbconvert_exporter": "python",
   "pygments_lexer": "ipython2",
   "version": "2.7.15"
  }
 },
 "nbformat": 4,
 "nbformat_minor": 2
}
